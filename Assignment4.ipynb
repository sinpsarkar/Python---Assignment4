{
 "cells": [
  {
   "cell_type": "markdown",
   "metadata": {},
   "source": [
    "## Problem Statement\n",
    "\n",
    "### 1.1 Write a Python Program(with class concepts) to find the area of the triangle using the below formula.<br> area = (s*(s-a)*(s-b)*(s-c)) ** 0.5<br> Function to take the length of the sides of triangle from user should be defined in the parent class and function to calculate the area should be defined in subclass."
   ]
  },
  {
   "cell_type": "code",
   "execution_count": 10,
   "metadata": {},
   "outputs": [
    {
     "name": "stdout",
     "output_type": "stream",
     "text": [
      "Enter the Side a :11\n",
      "Enter the Side b :12\n",
      "Enter the Side c :23\n",
      "The sides of triangle are a=11.0, b=12.0, c=23.0\n",
      "The Area of the triangle is 0.00\n"
     ]
    }
   ],
   "source": [
    "#Parent Class\n",
    "class Triangle:\n",
    "    def __init__(self):\n",
    "        number_of_sides=['a','b','c']\n",
    "        self.TriangleSides=number_of_sides\n",
    "        \n",
    "    def sides_Triangle(self):\n",
    "        self.sides_Of_Traingle=[input(\"Enter the Side \"+i+\" :\") for i in self.TriangleSides]\n",
    "        \n",
    "#Sub class  to calculate the Area      \n",
    "class Traingle_Area(Triangle):\n",
    "    def __init__(self):\n",
    "        Triangle.__init__(self)\n",
    "        \n",
    "    def area_Of_Triangle(self):\n",
    "                \n",
    "        # Iterator has been created to iterate sides of triangle from collection\n",
    "        triangleSides=iter(self.sides_Of_Traingle)\n",
    "        a=float(next(triangleSides))\n",
    "        b=float(next(triangleSides))\n",
    "        c=float(next(triangleSides))      \n",
    "           \n",
    "        # Half-perimeter (s) of Triangle         \n",
    "        s= (a+b+c)*0.5        \n",
    "        # Area of Triangle         \n",
    "        Area = (s*(s-a)*(s-b)*(s-c))**0.5 \n",
    "        print(\"The sides of triangle are a=\"+str(a)+\", b=\"+str(b)+\", c=\"+str(c))     \n",
    "        Area = ('The Area of the triangle is %0.2f' %Area )\n",
    "        #return Area\n",
    "        print(Area)\n",
    "        \n",
    "# Create object of Sub class Triangle_Area()\n",
    "Area_Of_Traingle = Traingle_Area()\n",
    "\n",
    "#Ask User to Enter the sides of Triangle\n",
    "Area_Of_Traingle.sides_Triangle()\n",
    "\n",
    "# Calculate the Area Of Triangle\n",
    "Area_Of_Traingle.area_Of_Triangle()"
   ]
  },
  {
   "cell_type": "markdown",
   "metadata": {},
   "source": [
    "### 1.2 Write a function filter_long_words() that takes a list of words and an integer n and returns the list of words that are longer than n."
   ]
  },
  {
   "cell_type": "code",
   "execution_count": 12,
   "metadata": {},
   "outputs": [
    {
     "name": "stdout",
     "output_type": "stream",
     "text": [
      "Please enter your words separated by comma: Information, Country, National, Travel\n",
      "Please enter your number: 7\n",
      "\n",
      " The List of words longer than 7 characters is :\n"
     ]
    },
    {
     "data": {
      "text/plain": [
       "['Information', 'National']"
      ]
     },
     "execution_count": 12,
     "metadata": {},
     "output_type": "execute_result"
    }
   ],
   "source": [
    "def long_words(WordList,n):\n",
    "        \n",
    "    #List Comprehensions\n",
    "    Wordlist=[x.strip() for x in WordList if len(x.strip())>n]\n",
    "    \n",
    "    if(len(Wordlist)>0):\n",
    "        print(\"\\n The List of words longer than \"+str(n)+\" characters is :\")\n",
    "        return Wordlist\n",
    "    else:\n",
    "        return \"No Words longer than \"+str(n)+\" characters\"\n",
    "    \n",
    "#User Input\n",
    "string= input(\"Please enter your words separated by comma: \")\n",
    "number= int(input(\"Please enter your number: \"))\n",
    "\n",
    "list_Of_Words = list(string.split(\",\"))\n",
    "\n",
    "#Call Function\n",
    "long_words(list_Of_Words,number)"
   ]
  },
  {
   "cell_type": "markdown",
   "metadata": {},
   "source": [
    "### 2.1 Write a Python program using function concept that maps list of words into a list of integers representing the lengths of the corresponding words."
   ]
  },
  {
   "cell_type": "code",
   "execution_count": 13,
   "metadata": {},
   "outputs": [
    {
     "name": "stdout",
     "output_type": "stream",
     "text": [
      "Input : Please enter Words : India, Australia, aussie\n",
      "Output: Length of Words are : [5, 9, 6]\n"
     ]
    }
   ],
   "source": [
    "def Word_Length(List):\n",
    "    ''' This function Map's the words with their corresponding length'''\n",
    "    return list(map(len, List))\n",
    "\n",
    "word_List=list(input(\"Input : Please enter Words : \").split(\",\"))\n",
    "\n",
    "#List Comprehension has been done to remove white trailing white spaces\n",
    "List=[x.strip() for x in word_List]\n",
    "\n",
    "#function Execution\n",
    "Words_lengths=Word_Length(List)\n",
    "\n",
    "print(\"Output: Length of Words are :\",Words_lengths )"
   ]
  },
  {
   "cell_type": "markdown",
   "metadata": {},
   "source": [
    "### 2.2 Write a Python function which takes a character (i.e. a string of length 1) and returns True if it is a vowel, False otherwise."
   ]
  },
  {
   "cell_type": "code",
   "execution_count": 16,
   "metadata": {},
   "outputs": [
    {
     "name": "stdout",
     "output_type": "stream",
     "text": [
      "Enter a character to check if it is vowel or not: a\n",
      "Output Value: True\n",
      "Check another charater? (y/n) :Y\n",
      "Enter a character to check if it is vowel or not: t\n",
      "Output Value: False\n"
     ]
    }
   ],
   "source": [
    "def vowel(inputChar):\n",
    "    #docstring\n",
    "    return_value=''\n",
    "    if(len(inputChar)==1):\n",
    "        vowel_list=['a','e','i','o','u']\n",
    "        if (inputChar.lower() in vowel_list):\n",
    "            return_value= True\n",
    "        else:\n",
    "            return_value= False\n",
    "    else:\n",
    "        return_value=\"Please enter single character only!\"        \n",
    "    return return_value\n",
    "\n",
    "\n",
    "input_value = input(\"Enter a character to check if it is vowel or not: \")\n",
    "\n",
    "output_value=vowel(input_value) \n",
    "\n",
    "print(\"Output Value:\",output_value)\n",
    "\n",
    "another=input(\"Check another charater? (y/n) :\")\n",
    "if another.lower() == 'y':\n",
    "    input_value = input(\"Enter a character to check if it is vowel or not: \")\n",
    "    output_value=vowel(input_value) \n",
    "    print(\"Output Value:\",output_value)"
   ]
  }
 ],
 "metadata": {
  "kernelspec": {
   "display_name": "Python 3",
   "language": "python",
   "name": "python3"
  },
  "language_info": {
   "codemirror_mode": {
    "name": "ipython",
    "version": 3
   },
   "file_extension": ".py",
   "mimetype": "text/x-python",
   "name": "python",
   "nbconvert_exporter": "python",
   "pygments_lexer": "ipython3",
   "version": "3.7.1"
  }
 },
 "nbformat": 4,
 "nbformat_minor": 2
}
